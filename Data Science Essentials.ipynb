{
 "cells": [
  {
   "cell_type": "markdown",
   "id": "e80ab898-7b4e-4e12-af6c-5f6b49a8f494",
   "metadata": {},
   "source": [
    "Data Science Essentials"
   ]
  },
  {
   "cell_type": "markdown",
   "id": "fd59b912-36eb-4103-b43f-bd04b62bc852",
   "metadata": {},
   "source": [
    "Data Science uses specialized languages like Python, R, and SQL to analyze and process data. It relies on powerful libraries such as NumPy, Pandas, and Scikit-learn for calculations, data manipulation, and machine learning. Key tools like Jupyter Notebook, Google Colab, and Tableau help with coding, collaboration, and visualization.\n",
    "\n",
    "For example, simple tasks like multiplying and adding numbers can be done with code, and converting units such as minutes to hours is easy using basic formulas in programming."
   ]
  },
  {
   "cell_type": "markdown",
   "id": "f3c46f44-633e-4913-b09a-fe8150011a6a",
   "metadata": {},
   "source": [
    "There are many Data science languages : Python ; SQL ; R ; Scala ; Java"
   ]
  },
  {
   "cell_type": "markdown",
   "id": "6c1a01f6-921a-4165-820d-5e67715d2306",
   "metadata": {},
   "source": [
    "There are many Data science libraries : Numpy ; Pandas ; Matlotlib ; ggplot2 ; Apache Spark"
   ]
  },
  {
   "cell_type": "markdown",
   "id": "6b9059c0-27f1-4e31-b39e-3cfcee20c32e",
   "metadata": {},
   "source": [
    "There are many Jupyter Notebook ; RStudio ; Anaconda ; JupyterLab "
   ]
  },
  {
   "cell_type": "markdown",
   "id": "0297d781-89d6-4260-ae76-9456082c0027",
   "metadata": {},
   "source": [
    "This is an arithmetic expression : 4 + 7"
   ]
  },
  {
   "cell_type": "code",
   "execution_count": 4,
   "id": "eb686515-51e3-4106-846f-a2f8fc17e1e1",
   "metadata": {},
   "outputs": [
    {
     "name": "stdout",
     "output_type": "stream",
     "text": [
      "10\n"
     ]
    }
   ],
   "source": [
    "a = 2\n",
    "b = 5\n",
    "print(a*b)"
   ]
  },
  {
   "cell_type": "code",
   "execution_count": 8,
   "id": "5dee445f-5216-4850-bbe6-552a1b69a542",
   "metadata": {},
   "outputs": [
    {
     "name": "stdout",
     "output_type": "stream",
     "text": [
      "150 is equal to 2.5 hours.\n"
     ]
    }
   ],
   "source": [
    "minutes = 150\n",
    "hours = minutes / 60 \n",
    "print(f\"{minutes} is equal to {hours} hours.\")"
   ]
  },
  {
   "cell_type": "markdown",
   "id": "52f172ed-bfd9-4308-a6f6-4c28627fd3c7",
   "metadata": {},
   "source": [
    "List of typical objectives :\n",
    "Understand the basics of data science languages such as Python and R\n",
    "Explore popular data science libraries for data analysis and machine learning\n",
    "Learn about essential tools used by data scientists for coding and visualization\n",
    "Practice writing simple code to perform arithmetic operations like multiplication and addition\n",
    "Convert units of time, such as minutes to hours, using programming\n",
    "Develop problem-solving skills through practical coding examples"
   ]
  },
  {
   "cell_type": "markdown",
   "id": "adc9a6a9-7b74-499d-8392-6915a5b9da77",
   "metadata": {},
   "source": [
    "The Author’s name : Solaymane"
   ]
  },
  {
   "cell_type": "code",
   "execution_count": null,
   "id": "c1872fb7-6f9d-4247-bcf9-3c995c870929",
   "metadata": {},
   "outputs": [],
   "source": []
  }
 ],
 "metadata": {
  "kernelspec": {
   "display_name": "Python [conda env:base] *",
   "language": "python",
   "name": "conda-base-py"
  },
  "language_info": {
   "codemirror_mode": {
    "name": "ipython",
    "version": 3
   },
   "file_extension": ".py",
   "mimetype": "text/x-python",
   "name": "python",
   "nbconvert_exporter": "python",
   "pygments_lexer": "ipython3",
   "version": "3.13.5"
  }
 },
 "nbformat": 4,
 "nbformat_minor": 5
}
